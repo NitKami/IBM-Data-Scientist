{
 "cells": [
  {
   "cell_type": "markdown",
   "id": "8bda199a-3ca7-41bc-8074-19b5578fb650",
   "metadata": {},
   "source": [
    "# Data Science Tools and Ecosystem"
   ]
  },
  {
   "cell_type": "markdown",
   "id": "cda0fdf2-e2e1-454d-a6cc-df80cc6df9d5",
   "metadata": {},
   "source": [
    "In this notebook, Data Science Tools and Ecosystem are summarized."
   ]
  },
  {
   "cell_type": "markdown",
   "id": "133987b5-3aea-49f7-81e1-395f49b219de",
   "metadata": {},
   "source": [
    "Some of the popular languages that Data Scientists use are:\n",
    "1. Python\n",
    "2. R\n",
    "3. SQL\n",
    "4. Julia\n",
    "5. Scala"
   ]
  },
  {
   "cell_type": "markdown",
   "id": "f6e7e8a6-15cb-4793-a21c-c6abdee99bf2",
   "metadata": {},
   "source": [
    "Some of the commonly used libraries used by Data Scientists include:\n",
    "1. Pandas\n",
    "2. NumPy\n",
    "3. SciPy\n",
    "4. Scikit-learn\n",
    "5. TensorFlow\n",
    "6. ggplot2"
   ]
  },
  {
   "cell_type": "markdown",
   "id": "9fa6792f-945a-4221-b0ae-f5448eece212",
   "metadata": {},
   "source": [
    "| Data Science Tools       |\n",
    "|--------------------------|\n",
    "| Jupyter Notebook         |\n",
    "| RStudio                  |\n",
    "| Apache Zeppelin          |"
   ]
  },
  {
   "cell_type": "markdown",
   "id": "88b1f592-15c0-404b-abfa-f5de7b3ee06b",
   "metadata": {},
   "source": [
    "### Below are a few examples of evaluating arithmetic expressions in Python."
   ]
  },
  {
   "cell_type": "code",
   "execution_count": 1,
   "id": "b9361b16-9dac-4dd7-9bfc-6406c4fcd3ff",
   "metadata": {
    "tags": []
   },
   "outputs": [
    {
     "data": {
      "text/plain": [
       "17"
      ]
     },
     "execution_count": 1,
     "metadata": {},
     "output_type": "execute_result"
    }
   ],
   "source": [
    "# This is a simple arithmetic expression to multiply then add integers\n",
    "(3 * 4) + 5"
   ]
  },
  {
   "cell_type": "code",
   "execution_count": 2,
   "id": "580b3c82-179b-4ef2-85c7-9d699e518834",
   "metadata": {
    "tags": []
   },
   "outputs": [
    {
     "data": {
      "text/plain": [
       "3.3333333333333335"
      ]
     },
     "execution_count": 2,
     "metadata": {},
     "output_type": "execute_result"
    }
   ],
   "source": [
    "# This will convert 200 minutes to hours by dividing by 60\n",
    "200 / 60"
   ]
  },
  {
   "cell_type": "markdown",
   "id": "094e22a9-d1a2-4680-aa47-307491622fa8",
   "metadata": {},
   "source": [
    "**Objectives:**\n",
    "- List popular languages for Data Science\n",
    "- List commonly used libraries in Data Science\n",
    "- Demonstrate creating markdown cells in Jupyter Notebook\n",
    "- Perform arithmetic operations in Python\n",
    "- Convert units within a code cell\n"
   ]
  },
  {
   "cell_type": "markdown",
   "id": "3a75e04f-dd4c-4f1c-9c89-f441f210c2d8",
   "metadata": {},
   "source": [
    "## Author\n",
    "Nishnat Dangoria"
   ]
  },
  {
   "cell_type": "code",
   "execution_count": null,
   "id": "dd82b433-8992-4867-a3b3-e53fe100ac37",
   "metadata": {},
   "outputs": [],
   "source": []
  }
 ],
 "metadata": {
  "kernelspec": {
   "display_name": "Python",
   "language": "python",
   "name": "conda-env-python-py"
  },
  "language_info": {
   "codemirror_mode": {
    "name": "ipython",
    "version": 3
   },
   "file_extension": ".py",
   "mimetype": "text/x-python",
   "name": "python",
   "nbconvert_exporter": "python",
   "pygments_lexer": "ipython3",
   "version": "3.7.12"
  }
 },
 "nbformat": 4,
 "nbformat_minor": 5
}
